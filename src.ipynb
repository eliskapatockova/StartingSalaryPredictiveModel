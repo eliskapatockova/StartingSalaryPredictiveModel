{
 "cells": [
  {
   "cell_type": "markdown",
   "id": "ce07ac76",
   "metadata": {},
   "source": [
    "# Predictive Model for Student Starting Salaries"
   ]
  },
  {
   "cell_type": "markdown",
   "id": "454e186b",
   "metadata": {},
   "source": [
    "Authors: Eliska Patockova, Roshan Ravi, Alexa Muratyan"
   ]
  },
  {
   "cell_type": "code",
   "execution_count": 1,
   "id": "9fbe29d7",
   "metadata": {},
   "outputs": [],
   "source": [
    "import pandas as pd\n",
    "import numpy as np\n",
    "from scipy.stats import multivariate_normal as mvn\n",
    "from matplotlib import pylab as plt\n",
    "from sklearn.cluster import KMeans"
   ]
  },
  {
   "cell_type": "code",
   "execution_count": null,
   "id": "637fa78d",
   "metadata": {},
   "outputs": [],
   "source": [
    "def load_data:\n",
    "    pass\n",
    "\n",
    "data, X = load_data()"
   ]
  }
 ],
 "metadata": {
  "kernelspec": {
   "display_name": "Python 3 (ipykernel)",
   "language": "python",
   "name": "python3"
  },
  "language_info": {
   "codemirror_mode": {
    "name": "ipython",
    "version": 3
   },
   "file_extension": ".py",
   "mimetype": "text/x-python",
   "name": "python",
   "nbconvert_exporter": "python",
   "pygments_lexer": "ipython3",
   "version": "3.9.12"
  }
 },
 "nbformat": 4,
 "nbformat_minor": 5
}
